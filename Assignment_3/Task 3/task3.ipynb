{
 "cells": [
  {
   "cell_type": "code",
   "execution_count": null,
   "metadata": {},
   "outputs": [],
   "source": [
    "import pandas as pd\n",
    "import numpy as np\n",
    "import pickle"
   ]
  },
  {
   "cell_type": "code",
   "execution_count": null,
   "metadata": {},
   "outputs": [],
   "source": [
    "# text data\n",
    "df = pd.read_csv(\"train_df.tsv\", sep=\"\\t\")\n",
    "\n",
    "# img descriptions\n",
    "with open(\"D_train.pkl\", \"rb\") as f:\n",
    "    image_descriptions = pickle.load(f)\n",
    "print(\"Image Descriptions (First 5 Records):\")\n",
    "for key, value in list(image_descriptions.items())[:5]:\n",
    "    print(f\"{key}: {value}\")\n",
    "\n",
    "# detected objects\n",
    "with open(\"O_train.pkl\", \"rb\") as f:\n",
    "    detected_objects = pickle.load(f)\n",
    "print(\"\\nDetected Objects (First 5 Records):\")\n",
    "for key, value in list(detected_objects.items())[:5]:\n",
    "    print(f\"{key}: {value}\")"
   ]
  },
  {
   "cell_type": "code",
   "execution_count": null,
   "metadata": {},
   "outputs": [],
   "source": [
    "import torch\n",
    "from torch.utils.data import Dataset\n",
    "from PIL import Image\n",
    "from torchvision import transforms\n",
    "\n",
    "class MuSEDataset(Dataset):\n",
    "    def __init__(self, text_file, image_desc_file, obj_file, image_folder, tokenizer, transform=None):\n",
    "        # text data\n",
    "        self.text_data = pd.read_csv(text_file, sep=\"\\t\")\n",
    "        \n",
    "        # img descriptions\n",
    "        with open(image_desc_file, \"rb\") as f:\n",
    "            self.image_descriptions = pickle.load(f)\n",
    "        \n",
    "        # detected objects\n",
    "        with open(obj_file, \"rb\") as f:\n",
    "            self.detected_objects = pickle.load(f)\n",
    "        \n",
    "        self.image_folder = image_folder\n",
    "        self.tokenizer = tokenizer\n",
    "        self.transform = transform if transform else transforms.Compose([\n",
    "            transforms.Resize((224, 224)),\n",
    "            transforms.ToTensor(),\n",
    "            transforms.Normalize(mean=[0.485, 0.456, 0.406], std=[0.229, 0.224, 0.225])\n",
    "        ])\n",
    "    \n",
    "    def __len__(self):\n",
    "        return len(self.text_data)\n",
    "    \n",
    "    def __getitem__(self, idx):\n",
    "        # Get the text data and corresponding image data\n",
    "        row = self.text_data.iloc[idx]\n",
    "        text = row[\"text\"]  \n",
    "        image_name = row[\"pid\"]  \n",
    "        sarcasm_label = row[\"target_of_sarcasm\"]  \n",
    "        \n",
    "        # Load and preprocess image\n",
    "        image_path = f\"{self.image_folder}/{image_name}\"\n",
    "        image = Image.open(image_path).convert(\"RGB\")\n",
    "        image = self.transform(image)\n",
    "        \n",
    "        # Get image description and detected objects\n",
    "        img_desc = self.image_descriptions.get(image_name, \"\")\n",
    "        detected_objs = self.detected_objects.get(image_name, \"\")\n",
    "        \n",
    "        # Tokenize text\n",
    "        text_inputs = self.tokenizer(text, padding='max_length', truncation=True, return_tensors=\"pt\")\n",
    "        \n",
    "        return {\n",
    "            \"text_input_ids\": text_inputs[\"input_ids\"].squeeze(0),\n",
    "            \"text_attention_mask\": text_inputs[\"attention_mask\"].squeeze(0),\n",
    "            \"image\": image,\n",
    "            \"image_description\": img_desc,\n",
    "            \"detected_objects\": detected_objs,\n",
    "            \"sarcasm_label\": torch.tensor(sarcasm_label, dtype=torch.long)\n",
    "        }\n",
    "\n",
    "# Example usage\n",
    "# dataset = MuSEDataset(\"train_df.tsv\", \"D_train.pkl\", \"O_train.pkl\", \"images\", tokenizer)\n"
   ]
  }
 ],
 "metadata": {
  "kernelspec": {
   "display_name": "Python 3",
   "language": "python",
   "name": "python3"
  },
  "language_info": {
   "name": "python",
   "version": "3.12.9"
  }
 },
 "nbformat": 4,
 "nbformat_minor": 2
}
