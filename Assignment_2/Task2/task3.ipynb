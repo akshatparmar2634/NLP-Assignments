{
 "cells": [
  {
   "cell_type": "code",
   "execution_count": 7,
   "metadata": {},
   "outputs": [],
   "source": [
    "import json\n",
    "import re"
   ]
  },
  {
   "cell_type": "code",
   "execution_count": 8,
   "metadata": {},
   "outputs": [
    {
     "name": "stdout",
     "output_type": "stream",
     "text": [
      "2435\n"
     ]
    }
   ],
   "source": [
    "with open(\"train.json\",\"r\",encoding='utf-8') as file:\n",
    "    train_data = json.load(file)\n",
    "print(len(train_data))"
   ]
  },
  {
   "cell_type": "code",
   "execution_count": 9,
   "metadata": {},
   "outputs": [
    {
     "name": "stdout",
     "output_type": "stream",
     "text": [
      "{'sentence_id': '1634', 'sentence': \"The food is uniformly exceptional, with a very capable kitchen which will proudly whip up whatever you feel like eating, whether it's on the menu or not.\", 'aspect_terms': [{'term': 'food', 'polarity': 'positive', 'from': '4', 'to': '8'}, {'term': 'kitchen', 'polarity': 'positive', 'from': '55', 'to': '62'}, {'term': 'menu', 'polarity': 'neutral', 'from': '141', 'to': '145'}], 'aspect_categories': [{'category': 'food', 'polarity': 'positive'}]}\n"
     ]
    }
   ],
   "source": [
    "print(train_data[2])"
   ]
  },
  {
   "cell_type": "markdown",
   "metadata": {},
   "source": [
    "# PreProcessing\n",
    "> Note : If there is hyphen in any term, I am considering them as a single token"
   ]
  },
  {
   "cell_type": "code",
   "execution_count": 10,
   "metadata": {},
   "outputs": [],
   "source": [
    "def punctuation_handler(word):\n",
    "    word = re.sub(r\"[^\\w\\s'-]\", '', word)\n",
    "    word = word.replace(\"'\",\"\")\n",
    "    return word.strip()\n",
    "\n",
    "def find_term_index(cleaned_tokens, term):\n",
    "    if term in cleaned_tokens:\n",
    "        return cleaned_tokens.index(term)\n",
    "    for idx, token in enumerate(cleaned_tokens):\n",
    "        if term in token:\n",
    "            return idx\n",
    "    return -1"
   ]
  },
  {
   "cell_type": "code",
   "execution_count": 13,
   "metadata": {},
   "outputs": [
    {
     "name": "stdout",
     "output_type": "stream",
     "text": [
      "{'tokens': ['Wine', 'list', 'selection', 'is', 'good', 'and', 'wine-by-the-glass', 'was', 'generously', 'filled', 'to', 'the', 'top'], 'polarity': 'positive', 'aspect_term': ['Wine', 'list', 'selection'], 'index': 0}\n",
      "{'tokens': ['Wine', 'list', 'selection', 'is', 'good', 'and', 'wine-by-the-glass', 'was', 'generously', 'filled', 'to', 'the', 'top'], 'polarity': 'positive', 'aspect_term': ['wine-by-the-glass'], 'index': 6}\n"
     ]
    }
   ],
   "source": [
    "preprocessed_data = []\n",
    "\n",
    "for count, sentence in enumerate(train_data):\n",
    "    tokens = sentence['sentence'].split(\" \")\n",
    "    cleaned_tokens = [punctuation_handler(i) for i in tokens]\n",
    "    # print(cleaned_tokens)\n",
    "    # print(count)\n",
    "    for aspect in sentence['aspect_terms']:\n",
    "        term = punctuation_handler(aspect['term'])\n",
    "        term = term.split(\" \")\n",
    "        index = find_term_index(cleaned_tokens, term[0])\n",
    "        polarity = aspect['polarity']\n",
    "\n",
    "        pre_data = {'tokens': cleaned_tokens, 'polarity': polarity, 'aspect_term': term, 'index': index}\n",
    "        preprocessed_data.append(pre_data)\n",
    "        # print(pre_data)\n",
    "        if(sentence['sentence_id'] == \"912\"):\n",
    "            print(pre_data)"
   ]
  },
  {
   "cell_type": "code",
   "execution_count": 14,
   "metadata": {},
   "outputs": [
    {
     "name": "stdout",
     "output_type": "stream",
     "text": [
      "2961\n"
     ]
    }
   ],
   "source": [
    "print(len(preprocessed_data))"
   ]
  },
  {
   "cell_type": "code",
   "execution_count": null,
   "metadata": {},
   "outputs": [],
   "source": []
  }
 ],
 "metadata": {
  "kernelspec": {
   "display_name": "base",
   "language": "python",
   "name": "python3"
  },
  "language_info": {
   "codemirror_mode": {
    "name": "ipython",
    "version": 3
   },
   "file_extension": ".py",
   "mimetype": "text/x-python",
   "name": "python",
   "nbconvert_exporter": "python",
   "pygments_lexer": "ipython3",
   "version": "3.12.3"
  }
 },
 "nbformat": 4,
 "nbformat_minor": 2
}
